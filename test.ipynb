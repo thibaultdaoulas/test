data = [
    ('2023-08-11 10:00:00', 'ABC123', 'FrontLeft', 30.5, 25.0),
    ('2023-08-11 10:15:00', 'XYZ456', 'RearRight', 28.2, 23.5),
]

schema = StructType([
    StructField('sample_time', TimestampType(), True),
    StructField('vehicle_id', StringType(), True),
    StructField('mounting_position', StringType(), True),
    StructField('pressure', DoubleType(), True),
    StructField('temperature', DoubleType(), True)
])

df = spark.createDataFrame(data, schema)
