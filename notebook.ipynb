{
 "cells": [
  {
   "cell_type": "code",
   "execution_count": null,
   "outputs": [],
   "source": [
    "data = [\n",
    "    ('2023-08-11 10:00:00', 'ABC123', 'FrontLeft', 30.5, 25.0),\n",
    "    ('2023-08-11 10:15:00', 'XYZ456', 'RearRight', 28.2, 23.5),\n",
    "]\n",
    "\n",
    "schema = StructType([\n",
    "    StructField('sample_time', TimestampType(), True),\n",
    "    StructField('vehicle_id', StringType(), True),\n",
    "    StructField('mounting_position', StringType(), True),\n",
    "    StructField('pressure', DoubleType(), True),\n",
    "    StructField('temperature', DoubleType(), True)\n",
    "])\n",
    "\n",
    "df = spark.createDataFrame(data, schema)"
   ],
   "metadata": {
    "collapsed": false
   },
   "id": "60820cdf0ea3f8c4"
  }
 ],
 "metadata": {
  "kernelspec": {
   "display_name": "Python 3 (ipykernel)",
   "language": "python",
   "name": "python3"
  },
  "language_info": {
   "codemirror_mode": {
    "name": "ipython",
    "version": 3
   },
   "file_extension": ".py",
   "mimetype": "text/x-python",
   "name": "python",
   "nbconvert_exporter": "python",
   "pygments_lexer": "ipython3",
   "version": "3.9.13"
  }
 },
 "nbformat": 4,
 "nbformat_minor": 5
}
